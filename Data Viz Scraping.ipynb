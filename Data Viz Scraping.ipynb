{
 "cells": [
  {
   "cell_type": "code",
   "execution_count": 119,
   "metadata": {
    "collapsed": true
   },
   "outputs": [],
   "source": [
    "import os\n",
    "import pandas as pd\n",
    "from collections import Counter\n",
    "import numpy as np\n",
    "import nltk\n",
    "from nltk.tokenize import RegexpTokenizer\n",
    "from nltk.stem.snowball import EnglishStemmer\n",
    "import re\n",
    "import itertools"
   ]
  },
  {
   "cell_type": "code",
   "execution_count": 120,
   "metadata": {
    "collapsed": true
   },
   "outputs": [],
   "source": [
    "# function to perform tokenization and Normalization\n",
    "def token_norm(content):\n",
    "    content_token = []     # converting each review as a list of tokens and creating a list of, list of tokens\n",
    "    for i in range(0, len(content)):\n",
    "#        s = re.sub('([.])', r' \\1 ', content[i])\n",
    "#        tokenizer = nltk.tokenize.treebank.TreebankWordTokenizer()\n",
    "        tokenizer = RegexpTokenizer(r'\\w+')  # to remove Punctuations\n",
    "        c = tokenizer.tokenize(content[i])\n",
    "        content_token.append(c)\n",
    "        \n",
    "    #Normalization, Stemming and Stopword Removal\n",
    "    content_norm = []\n",
    "    for i in range(0,len(content_token)):\n",
    "        con = []\n",
    "        for item in content_token[i]:\n",
    "            l=item.lower()                # converting all items to lower case\n",
    "            l1=re.sub(\"[\\d]+\",\"NUM\", l)   # converting all digits to 'NUM'\n",
    "            stemmer = EnglishStemmer()    # get an instance of SnowballStemmer for English\n",
    "            l2=stemmer.stem(l1)           # Stemming\n",
    "#            if l2 not in stopwords_set:   # Stopword list \n",
    "            con.append(l2)\n",
    "        content_norm.append(con)\n",
    "    return(content_norm)"
   ]
  },
  {
   "cell_type": "code",
   "execution_count": 121,
   "metadata": {
    "collapsed": false
   },
   "outputs": [],
   "source": [
    "def token_norm_string(string):\n",
    "#    s = re.sub('([.])', r' \\1 ', content[i])\n",
    "#    tokenizer = nltk.tokenize.treebank.TreebankWordTokenizer()\n",
    "    tokenizer = RegexpTokenizer(r'\\w+')  # to remove Punctuations\n",
    "    c = tokenizer.tokenize(string)\n",
    "        \n",
    "# Normalization, Stemming and Stopword Removal\n",
    "    con = []\n",
    "    for item in c:\n",
    "        l=item.lower()                # converting all items to lower case\n",
    "        l1=re.sub(\"[\\d]+\",\"NUM\", l)   # converting all digits to 'NUM'\n",
    "        stemmer = EnglishStemmer()    # get an instance of SnowballStemmer for English\n",
    "        l2=stemmer.stem(l1)           # Stemming\n",
    "#       if l2 not in stopwords_set:   # Stopword list \n",
    "        con.append(l2)\n",
    "    return(con)"
   ]
  },
  {
   "cell_type": "code",
   "execution_count": 122,
   "metadata": {
    "collapsed": true
   },
   "outputs": [],
   "source": [
    "path = '/home/prateek/uva/Data Visualization/Speeches/All Speeches'"
   ]
  },
  {
   "cell_type": "code",
   "execution_count": 123,
   "metadata": {
    "collapsed": false
   },
   "outputs": [],
   "source": [
    "speeches = [filelist for filelist in os.listdir(path)]"
   ]
  },
  {
   "cell_type": "code",
   "execution_count": 125,
   "metadata": {
    "collapsed": false
   },
   "outputs": [],
   "source": [
    "# creating a dictionary for each speech\n",
    "df = {}\n",
    "for sp in speeches:\n",
    "    with open(os.path.join(path, sp)) as speech:\n",
    "        content = speech.read()\n",
    "        president = sp.split('-',1)[0]\n",
    "        if president in df.keys():\n",
    "            df[president][sp[:-4]] = content\n",
    "            \n",
    "        else:\n",
    "            df[president] = {}\n",
    "            df[president][sp[:-4]] = content"
   ]
  },
  {
   "cell_type": "code",
   "execution_count": 132,
   "metadata": {
    "collapsed": false
   },
   "outputs": [
    {
     "data": {
      "text/html": [
       "<div>\n",
       "<table border=\"1\" class=\"dataframe\">\n",
       "  <thead>\n",
       "    <tr style=\"text-align: right;\">\n",
       "      <th></th>\n",
       "      <th>President</th>\n",
       "      <th>Speech Title</th>\n",
       "      <th>Speech</th>\n",
       "      <th>Year</th>\n",
       "    </tr>\n",
       "  </thead>\n",
       "  <tbody>\n",
       "    <tr>\n",
       "      <th>0</th>\n",
       "      <td>reagan</td>\n",
       "      <td>reagan-\"Evil Empire\" Speech (March 8, 1983)</td>\n",
       "      <td>Reverend clergy all, Senator Hawkins, disting...</td>\n",
       "      <td>1983</td>\n",
       "    </tr>\n",
       "    <tr>\n",
       "      <th>1</th>\n",
       "      <td>reagan</td>\n",
       "      <td>reagan-Bergen-Belsen Concentration Camp (May 5...</td>\n",
       "      <td>Chancellor Kohl and honored guests, this pain...</td>\n",
       "      <td>1985</td>\n",
       "    </tr>\n",
       "    <tr>\n",
       "      <th>2</th>\n",
       "      <td>reagan</td>\n",
       "      <td>reagan-Farewell Address (January 11, 1989)</td>\n",
       "      <td>This is the 34th time I'll speak to you from ...</td>\n",
       "      <td>1989</td>\n",
       "    </tr>\n",
       "    <tr>\n",
       "      <th>3</th>\n",
       "      <td>reagan</td>\n",
       "      <td>reagan-Speech on the Strategic Arms Reduction ...</td>\n",
       "      <td>Officers, ladies and gentlemen of the Nationa...</td>\n",
       "      <td>1981</td>\n",
       "    </tr>\n",
       "    <tr>\n",
       "      <th>4</th>\n",
       "      <td>reagan</td>\n",
       "      <td>reagan-Address from the Brandenburg Gate (Berl...</td>\n",
       "      <td>Thank you very much. Chancellor Kohl, Governi...</td>\n",
       "      <td>1987</td>\n",
       "    </tr>\n",
       "  </tbody>\n",
       "</table>\n",
       "</div>"
      ],
      "text/plain": [
       "  President                                       Speech Title  \\\n",
       "0    reagan        reagan-\"Evil Empire\" Speech (March 8, 1983)   \n",
       "1    reagan  reagan-Bergen-Belsen Concentration Camp (May 5...   \n",
       "2    reagan         reagan-Farewell Address (January 11, 1989)   \n",
       "3    reagan  reagan-Speech on the Strategic Arms Reduction ...   \n",
       "4    reagan  reagan-Address from the Brandenburg Gate (Berl...   \n",
       "\n",
       "                                              Speech  Year  \n",
       "0   Reverend clergy all, Senator Hawkins, disting...  1983  \n",
       "1   Chancellor Kohl and honored guests, this pain...  1985  \n",
       "2   This is the 34th time I'll speak to you from ...  1989  \n",
       "3   Officers, ladies and gentlemen of the Nationa...  1981  \n",
       "4   Thank you very much. Chancellor Kohl, Governi...  1987  "
      ]
     },
     "execution_count": 132,
     "metadata": {},
     "output_type": "execute_result"
    }
   ],
   "source": [
    "speech_df = pd.DataFrame([[col1, col2, col3] for col1, d in df.items() for col2, col3 in d.items()])\n",
    "speech_df.columns = ['President','Speech Title','Speech']\n",
    "speech_df['Year'] = [year[-5:-1] for year in speech_df['Speech Title']]\n",
    "speech_df.head()"
   ]
  },
  {
   "cell_type": "code",
   "execution_count": 133,
   "metadata": {
    "collapsed": false
   },
   "outputs": [],
   "source": [
    "speech_df['unique words'] = [len(Counter(token_norm_string(d))) for d in speech_df['Speech']]\n",
    "speech_df['total words'] = [sum(Counter(token_norm_string(d)).values()) for d in speech_df['Speech']]"
   ]
  },
  {
   "cell_type": "code",
   "execution_count": 134,
   "metadata": {
    "collapsed": false
   },
   "outputs": [
    {
     "data": {
      "text/html": [
       "<div>\n",
       "<table border=\"1\" class=\"dataframe\">\n",
       "  <thead>\n",
       "    <tr style=\"text-align: right;\">\n",
       "      <th></th>\n",
       "      <th>President</th>\n",
       "      <th>Speech Title</th>\n",
       "      <th>Speech</th>\n",
       "      <th>Year</th>\n",
       "      <th>unique words</th>\n",
       "      <th>total words</th>\n",
       "    </tr>\n",
       "  </thead>\n",
       "  <tbody>\n",
       "    <tr>\n",
       "      <th>0</th>\n",
       "      <td>reagan</td>\n",
       "      <td>reagan-\"Evil Empire\" Speech (March 8, 1983)</td>\n",
       "      <td>Reverend clergy all, Senator Hawkins, disting...</td>\n",
       "      <td>1983</td>\n",
       "      <td>1064</td>\n",
       "      <td>3932</td>\n",
       "    </tr>\n",
       "    <tr>\n",
       "      <th>1</th>\n",
       "      <td>reagan</td>\n",
       "      <td>reagan-Bergen-Belsen Concentration Camp (May 5...</td>\n",
       "      <td>Chancellor Kohl and honored guests, this pain...</td>\n",
       "      <td>1985</td>\n",
       "      <td>426</td>\n",
       "      <td>1165</td>\n",
       "    </tr>\n",
       "    <tr>\n",
       "      <th>2</th>\n",
       "      <td>reagan</td>\n",
       "      <td>reagan-Farewell Address (January 11, 1989)</td>\n",
       "      <td>This is the 34th time I'll speak to you from ...</td>\n",
       "      <td>1989</td>\n",
       "      <td>849</td>\n",
       "      <td>3401</td>\n",
       "    </tr>\n",
       "    <tr>\n",
       "      <th>3</th>\n",
       "      <td>reagan</td>\n",
       "      <td>reagan-Speech on the Strategic Arms Reduction ...</td>\n",
       "      <td>Officers, ladies and gentlemen of the Nationa...</td>\n",
       "      <td>1981</td>\n",
       "      <td>840</td>\n",
       "      <td>3293</td>\n",
       "    </tr>\n",
       "    <tr>\n",
       "      <th>4</th>\n",
       "      <td>reagan</td>\n",
       "      <td>reagan-Address from the Brandenburg Gate (Berl...</td>\n",
       "      <td>Thank you very much. Chancellor Kohl, Governi...</td>\n",
       "      <td>1987</td>\n",
       "      <td>797</td>\n",
       "      <td>2721</td>\n",
       "    </tr>\n",
       "  </tbody>\n",
       "</table>\n",
       "</div>"
      ],
      "text/plain": [
       "  President                                       Speech Title  \\\n",
       "0    reagan        reagan-\"Evil Empire\" Speech (March 8, 1983)   \n",
       "1    reagan  reagan-Bergen-Belsen Concentration Camp (May 5...   \n",
       "2    reagan         reagan-Farewell Address (January 11, 1989)   \n",
       "3    reagan  reagan-Speech on the Strategic Arms Reduction ...   \n",
       "4    reagan  reagan-Address from the Brandenburg Gate (Berl...   \n",
       "\n",
       "                                              Speech  Year  unique words  \\\n",
       "0   Reverend clergy all, Senator Hawkins, disting...  1983          1064   \n",
       "1   Chancellor Kohl and honored guests, this pain...  1985           426   \n",
       "2   This is the 34th time I'll speak to you from ...  1989           849   \n",
       "3   Officers, ladies and gentlemen of the Nationa...  1981           840   \n",
       "4   Thank you very much. Chancellor Kohl, Governi...  1987           797   \n",
       "\n",
       "   total words  \n",
       "0         3932  \n",
       "1         1165  \n",
       "2         3401  \n",
       "3         3293  \n",
       "4         2721  "
      ]
     },
     "execution_count": 134,
     "metadata": {},
     "output_type": "execute_result"
    }
   ],
   "source": [
    "speech_df.head()"
   ]
  },
  {
   "cell_type": "code",
   "execution_count": 135,
   "metadata": {
    "collapsed": true
   },
   "outputs": [],
   "source": [
    "president_list = list(speech_df['President'].unique())"
   ]
  },
  {
   "cell_type": "code",
   "execution_count": 136,
   "metadata": {
    "collapsed": false
   },
   "outputs": [
    {
     "data": {
      "text/plain": [
       "['reagan',\n",
       " 'gwbush',\n",
       " 'clinton',\n",
       " 'bush',\n",
       " 'obama',\n",
       " 'nixon',\n",
       " 'ford',\n",
       " 'lbjohnson',\n",
       " 'carter']"
      ]
     },
     "execution_count": 136,
     "metadata": {},
     "output_type": "execute_result"
    }
   ],
   "source": [
    "president_list"
   ]
  },
  {
   "cell_type": "code",
   "execution_count": 99,
   "metadata": {
    "collapsed": false
   },
   "outputs": [],
   "source": [
    "#d1 = Counter(token_norm_string(list(speech_df['Speech'])[1]))"
   ]
  },
  {
   "cell_type": "code",
   "execution_count": 141,
   "metadata": {
    "collapsed": false
   },
   "outputs": [],
   "source": [
    "Pred_data = pd.DataFrame(columns=['President Name','Year','Total Unique Words','Total Words'])\n",
    "for name in president_list:\n",
    "    token_list= []\n",
    "    year = []\n",
    "    for i in range(len(speech_df)):\n",
    "        if speech_df.loc[i,'President'] == name:\n",
    "            token_list.append(token_norm_string(speech_df.loc[i,'Speech']))\n",
    "            year.append(speech_df.loc[i, 'Year'])\n",
    "    max_year = max(year)\n",
    "    min_year = min(year)\n",
    "    total_wordlist =  list(itertools.chain.from_iterable(token_list))\n",
    "    Pred_data.loc[president_list.index(name)] = [name, min_year+'-'+max_year, len(Counter(total_wordlist)), sum(Counter(total_wordlist).values()) ]"
   ]
  },
  {
   "cell_type": "code",
   "execution_count": 142,
   "metadata": {
    "collapsed": false
   },
   "outputs": [
    {
     "data": {
      "text/html": [
       "<div>\n",
       "<table border=\"1\" class=\"dataframe\">\n",
       "  <thead>\n",
       "    <tr style=\"text-align: right;\">\n",
       "      <th></th>\n",
       "      <th>President Name</th>\n",
       "      <th>Year</th>\n",
       "      <th>Total Unique Words</th>\n",
       "      <th>Total Words</th>\n",
       "    </tr>\n",
       "  </thead>\n",
       "  <tbody>\n",
       "    <tr>\n",
       "      <th>0</th>\n",
       "      <td>reagan</td>\n",
       "      <td>1964-1989</td>\n",
       "      <td>6830</td>\n",
       "      <td>219135</td>\n",
       "    </tr>\n",
       "    <tr>\n",
       "      <th>1</th>\n",
       "      <td>gwbush</td>\n",
       "      <td>2001-2009</td>\n",
       "      <td>3323</td>\n",
       "      <td>46159</td>\n",
       "    </tr>\n",
       "    <tr>\n",
       "      <th>2</th>\n",
       "      <td>clinton</td>\n",
       "      <td>1993-2001</td>\n",
       "      <td>5197</td>\n",
       "      <td>150100</td>\n",
       "    </tr>\n",
       "    <tr>\n",
       "      <th>3</th>\n",
       "      <td>bush</td>\n",
       "      <td>1988-1993</td>\n",
       "      <td>4439</td>\n",
       "      <td>98040</td>\n",
       "    </tr>\n",
       "    <tr>\n",
       "      <th>4</th>\n",
       "      <td>obama</td>\n",
       "      <td>2008-2010</td>\n",
       "      <td>2904</td>\n",
       "      <td>34632</td>\n",
       "    </tr>\n",
       "  </tbody>\n",
       "</table>\n",
       "</div>"
      ],
      "text/plain": [
       "  President Name       Year  Total Unique Words  Total Words\n",
       "0         reagan  1964-1989                6830       219135\n",
       "1         gwbush  2001-2009                3323        46159\n",
       "2        clinton  1993-2001                5197       150100\n",
       "3           bush  1988-1993                4439        98040\n",
       "4          obama  2008-2010                2904        34632"
      ]
     },
     "execution_count": 142,
     "metadata": {},
     "output_type": "execute_result"
    }
   ],
   "source": [
    "Pred_data.head()"
   ]
  },
  {
   "cell_type": "code",
   "execution_count": 98,
   "metadata": {
    "collapsed": false
   },
   "outputs": [
    {
     "data": {
      "text/plain": [
       "President\n",
       "obama    34632\n",
       "Name: total words, dtype: int64"
      ]
     },
     "execution_count": 98,
     "metadata": {},
     "output_type": "execute_result"
    }
   ],
   "source": [
    "#p = speech_df.groupby(['President'], axis=0)['total words'].sum()\n",
    "#p"
   ]
  },
  {
   "cell_type": "code",
   "execution_count": null,
   "metadata": {
    "collapsed": false
   },
   "outputs": [],
   "source": []
  }
 ],
 "metadata": {
  "kernelspec": {
   "display_name": "Python 3",
   "language": "python",
   "name": "python3"
  },
  "language_info": {
   "codemirror_mode": {
    "name": "ipython",
    "version": 3
   },
   "file_extension": ".py",
   "mimetype": "text/x-python",
   "name": "python",
   "nbconvert_exporter": "python",
   "pygments_lexer": "ipython3",
   "version": "3.5.1"
  }
 },
 "nbformat": 4,
 "nbformat_minor": 0
}
